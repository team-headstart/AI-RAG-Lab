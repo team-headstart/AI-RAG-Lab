{
  "nbformat": 4,
  "nbformat_minor": 0,
  "metadata": {
    "colab": {
      "provenance": []
    },
    "kernelspec": {
      "name": "python3",
      "display_name": "Python 3"
    },
    "language_info": {
      "name": "python"
    }
  },
  "cells": [
    {
      "cell_type": "markdown",
      "source": [
        "# Install the necessary Python Packages"
      ],
      "metadata": {
        "id": "L_Kg9pViwBXO"
      }
    },
    {
      "cell_type": "code",
      "source": [
        "! pip install openai\n",
        "! pip install pydub\n",
        "! pip install fpdf\n",
        "! pip install PyPDF2\n",
        "! pip install chromadb\n",
        "! pip install langchain\n",
        "! pip install tiktoken\n",
        "! pip install unstructured\n",
        "! pip install pypdf pdfminer\n",
        "! pip install youtube-transcript-api"
      ],
      "metadata": {
        "id": "2hraicEbuBEj"
      },
      "execution_count": null,
      "outputs": []
    },
    {
      "cell_type": "markdown",
      "source": [
        "# Import Libraries"
      ],
      "metadata": {
        "id": "_BLtO7xnv_oP"
      }
    },
    {
      "cell_type": "code",
      "execution_count": 4,
      "metadata": {
        "id": "HKhfvajctc98"
      },
      "outputs": [],
      "source": [
        "from google.colab import userdata\n",
        "import requests\n",
        "import base64\n",
        "from openai import OpenAI\n",
        "import io\n",
        "from pydub import AudioSegment\n",
        "from pydub.playback import play\n",
        "from IPython.display import Audio, display\n",
        "import PyPDF2\n",
        "from langchain.document_loaders import UnstructuredPDFLoader, OnlinePDFLoader, WebBaseLoader, YoutubeLoader, DirectoryLoader, PyPDFLoader\n",
        "from langchain.text_splitter import RecursiveCharacterTextSplitter\n",
        "import tiktoken\n",
        "from openai import OpenAI\n",
        "from IPython.display import Markdown\n",
        "from langchain.vectorstores import Chroma\n",
        "from langchain.prompts import PromptTemplate\n",
        "from langchain.chains import RetrievalQA, ConversationalRetrievalChain\n",
        "from langchain.indexes import VectorstoreIndexCreator\n",
        "from langchain.embeddings import OpenAIEmbeddings\n",
        "import os\n",
        "\n",
        "\n",
        "# Get your OpenAI API Key by logging onto https://platform.openai.com/api-keys\n",
        "\n",
        "os.environ['OPENAI_API_KEY'] = \"<INSERT OPENAI_API_KEY_HERE>\"\n",
        "client = OpenAI(api_key=\"<INSERT OPENAI_API_KEY_HERE>\")\n",
        "embeddings = OpenAIEmbeddings(openai_api_key=\"<INSERT OPENAI_API_KEY_HERE>\")\n"
      ]
    },
    {
      "cell_type": "markdown",
      "source": [
        "# Chat Completions"
      ],
      "metadata": {
        "id": "Iy4QrnwOv3jd"
      }
    },
    {
      "cell_type": "code",
      "source": [
        "def stream_gpt(query, model):\n",
        "\n",
        "    completion = client.chat.completions.create(\n",
        "        model=model,\n",
        "        messages = [\n",
        "            {\"role\": \"system\", \"content\" : \"You are an helpful assistant.\"},\n",
        "            {\"role\": \"user\", \"content\": query}\n",
        "        ],\n",
        "        stream=True\n",
        "    )\n",
        "\n",
        "    for chunk in completion:\n",
        "        print(chunk.choices[0].delta.content, end='')\n",
        "\n",
        "\n"
      ],
      "metadata": {
        "id": "50hw3gSLuIB1"
      },
      "execution_count": 11,
      "outputs": []
    },
    {
      "cell_type": "code",
      "source": [
        "res = stream_gpt(query=\"tell me what is langchain\", model=\"gpt-4-1106-preview\")"
      ],
      "metadata": {
        "id": "S9XpOI9FyqAD",
        "outputId": "16b05356-f779-4fa8-bb87-90651c836031",
        "colab": {
          "base_uri": "https://localhost:8080/"
        }
      },
      "execution_count": 14,
      "outputs": [
        {
          "output_type": "stream",
          "name": "stdout",
          "text": [
            "As of my last update, LangChain is an open-source Python library designed to make it easier to work with language models, particularly for building applications with them. It provides tools and interfaces that abstract away some of the complexity involved in interacting with these models, like the popular OpenAI GPT (Generative Pre-trained Transformer) series.\n",
            "\n",
            "LangChain is not among the most widely-discussed tools in the space of natural language processing, so for the most accurate and up-to-date information, you'd likely need to look at the official documentation or resources provided by its creators or contributors. If you're a developer or a researcher interested in utilizing language models in your projects, LangChain could be a valuable resource to streamline the development process.None"
          ]
        }
      ]
    },
    {
      "cell_type": "code",
      "source": [],
      "metadata": {
        "id": "clYXnnu-3mFU"
      },
      "execution_count": null,
      "outputs": []
    },
    {
      "cell_type": "markdown",
      "source": [
        "# Chat with PDF"
      ],
      "metadata": {
        "id": "2gHRr6K73mZ4"
      }
    },
    {
      "cell_type": "code",
      "source": [
        "# Add a pdf to the colab environment, and put the file name below\n",
        "paper = \"/content/AttentionisAllYouNeed.pdf\""
      ],
      "metadata": {
        "id": "0Nk7eaXK7JzS"
      },
      "execution_count": 16,
      "outputs": []
    },
    {
      "cell_type": "code",
      "source": [
        "loader = PyPDFLoader(paper)\n",
        "documents = loader.load()"
      ],
      "metadata": {
        "id": "zHiXNXoahfLx"
      },
      "execution_count": 17,
      "outputs": []
    },
    {
      "cell_type": "code",
      "source": [
        "index = VectorstoreIndexCreator().from_loaders([loader])"
      ],
      "metadata": {
        "id": "BdtZA-5W11UM"
      },
      "execution_count": 18,
      "outputs": []
    },
    {
      "cell_type": "code",
      "source": [
        "index.query(\"What were some interesting things the authors found?\")"
      ],
      "metadata": {
        "id": "ufzXqjFG11W8",
        "outputId": "df5d020a-d102-4cd9-f286-1fc509ab1912",
        "colab": {
          "base_uri": "https://localhost:8080/",
          "height": 53
        }
      },
      "execution_count": 20,
      "outputs": [
        {
          "output_type": "execute_result",
          "data": {
            "text/plain": [
              "' The authors found that many of the attention heads exhibited behavior that seemed related to the structure of the sentence. They also found that two attention heads appeared to be involved in anaphora resolution.'"
            ],
            "application/vnd.google.colaboratory.intrinsic+json": {
              "type": "string"
            }
          },
          "metadata": {},
          "execution_count": 20
        }
      ]
    },
    {
      "cell_type": "code",
      "source": [],
      "metadata": {
        "id": "0zlnXo6m11Zl"
      },
      "execution_count": null,
      "outputs": []
    },
    {
      "cell_type": "markdown",
      "source": [
        "# Chat with Website"
      ],
      "metadata": {
        "id": "nfN5bpzChfZr"
      }
    },
    {
      "cell_type": "code",
      "source": [
        "url = \"https://finance.yahoo.com/\""
      ],
      "metadata": {
        "id": "OPwx8oF_htge"
      },
      "execution_count": 21,
      "outputs": []
    },
    {
      "cell_type": "code",
      "source": [
        "loader = WebBaseLoader(url)\n",
        "documents = loader.load()"
      ],
      "metadata": {
        "id": "qZrHY89e2v92"
      },
      "execution_count": 22,
      "outputs": []
    },
    {
      "cell_type": "code",
      "source": [
        "index = VectorstoreIndexCreator().from_loaders([loader])"
      ],
      "metadata": {
        "id": "_h8Wft7U2wAw"
      },
      "execution_count": 23,
      "outputs": []
    },
    {
      "cell_type": "code",
      "source": [
        "index.query(\"What are the top news stories for today?\")"
      ],
      "metadata": {
        "id": "g6XAPgMQ2wFs",
        "outputId": "c72a3e54-c067-4428-ad17-f66e3fc4fae0",
        "colab": {
          "base_uri": "https://localhost:8080/",
          "height": 105
        }
      },
      "execution_count": 24,
      "outputs": [
        {
          "output_type": "execute_result",
          "data": {
            "text/plain": [
              "\" The top news stories for today include: Stocks post their best month since 2022, Dow jumps 500 points as market's roaring November ends, Strategist: The 4 hottest sectors for growth in 2024, Inflation: Is the Fed ready for rate cuts in spring 2024?, Buy now, pay later: How Affirm examines financial health, AI wars: Amazon is coming for Microsoft, Google, Why the Cigna-Humana deal makes sense: Analysts, Beyoncé concert film follows Swift's movie success, Dow Jones Surges 520 Points As Salesforce Soars; Elon Musk Hypes 'Bulletproof' Tesla Cybertruck, and Dow Jones Futures Rise, Indexes Near 2023 Highs; Key Inflation Data, Tesla Cybertruck On Tap.\""
            ],
            "application/vnd.google.colaboratory.intrinsic+json": {
              "type": "string"
            }
          },
          "metadata": {},
          "execution_count": 24
        }
      ]
    },
    {
      "cell_type": "code",
      "source": [],
      "metadata": {
        "id": "PisNbhrd2wMn"
      },
      "execution_count": null,
      "outputs": []
    },
    {
      "cell_type": "markdown",
      "source": [
        "# Chat With YouTube Video"
      ],
      "metadata": {
        "id": "m5qZAfpPh-Au"
      }
    },
    {
      "cell_type": "code",
      "source": [
        "youtube_url = \"https://www.youtube.com/watch?v=bDbE5vl7yd8\""
      ],
      "metadata": {
        "id": "TJZ_TDJkija2"
      },
      "execution_count": 26,
      "outputs": []
    },
    {
      "cell_type": "code",
      "source": [
        "loader = YoutubeLoader(\"bDbE5vl7yd8\")\n",
        "documents = loader.load()"
      ],
      "metadata": {
        "id": "HjRp0nq83VJL"
      },
      "execution_count": 27,
      "outputs": []
    },
    {
      "cell_type": "code",
      "source": [
        "index = VectorstoreIndexCreator().from_loaders([loader])"
      ],
      "metadata": {
        "id": "x5VOL7id3jWY"
      },
      "execution_count": 28,
      "outputs": []
    },
    {
      "cell_type": "code",
      "source": [
        "index.query(\"What are the main takeaways from this video?\")"
      ],
      "metadata": {
        "id": "2mE4xT673VL7",
        "outputId": "e1b8a634-35c1-4b11-c519-d1e6780cb9a8",
        "colab": {
          "base_uri": "https://localhost:8080/",
          "height": 53
        }
      },
      "execution_count": 30,
      "outputs": [
        {
          "output_type": "execute_result",
          "data": {
            "text/plain": [
              "' The main takeaways from this video are that Sam Alman believes that his current work is important and urgent, and that some people believe that QAR could be a breakthrough in the search for AGI. Additionally, the new model was able to solve certain mathematical problems.'"
            ],
            "application/vnd.google.colaboratory.intrinsic+json": {
              "type": "string"
            }
          },
          "metadata": {},
          "execution_count": 30
        }
      ]
    },
    {
      "cell_type": "code",
      "source": [],
      "metadata": {
        "id": "O6LWdn5O3VOo"
      },
      "execution_count": null,
      "outputs": []
    }
  ]
}